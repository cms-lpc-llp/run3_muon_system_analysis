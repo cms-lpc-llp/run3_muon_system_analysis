{
 "cells": [
  {
   "cell_type": "code",
   "execution_count": null,
   "id": "58b6e643",
   "metadata": {},
   "outputs": [],
   "source": [
    "import ROOT as rt\n",
    "import csv\n",
    "import re\n",
    "import sys\n",
    "import collections\n",
    "from collections import OrderedDict\n",
    "import uproot\n",
    "import pandas as pd\n",
    "from root_numpy import array2tree\n",
    "import scipy\n",
    "import awkward\n",
    "import numpy as np\n",
    "import time\n",
    "import math\n",
    "\n",
    "sys.path.append('/afs/desy.de/user/l/lbenato/cms-lpc-llp_repo/run3_muon_system_analysis/lib/')\n",
    "from histo_utilities import create_TH1D, create_TH2D, std_color_list, create_TGraph, make_ratio_plot\n",
    "from helper_functions import deltaR, deltaPhi"
   ]
  },
  {
   "cell_type": "code",
   "execution_count": null,
   "id": "ce1540ff",
   "metadata": {},
   "outputs": [],
   "source": [
    "print(deltaPhi(0.3,0.4))"
   ]
  },
  {
   "cell_type": "code",
   "execution_count": null,
   "id": "80b50610",
   "metadata": {},
   "outputs": [],
   "source": []
  }
 ],
 "metadata": {
  "kernelspec": {
   "display_name": "run3",
   "language": "python",
   "name": "run3"
  },
  "language_info": {
   "codemirror_mode": {
    "name": "ipython",
    "version": 3
   },
   "file_extension": ".py",
   "mimetype": "text/x-python",
   "name": "python",
   "nbconvert_exporter": "python",
   "pygments_lexer": "ipython3",
   "version": "3.9.16"
  }
 },
 "nbformat": 4,
 "nbformat_minor": 5
}
